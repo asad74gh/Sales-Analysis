{
 "cells": [
  {
   "cell_type": "code",
   "execution_count": 9,
   "id": "a1d60fd4-12df-41c1-ad42-2922e368d367",
   "metadata": {},
   "outputs": [],
   "source": [
    "import pandas as pd\n",
    "import numpy as np\n",
    "import seaborn as sns\n",
    "import matplotlib.pyplot as plt"
   ]
  },
  {
   "cell_type": "code",
   "execution_count": 10,
   "id": "2cff7a29-4d57-4820-a257-e3d54fe12848",
   "metadata": {},
   "outputs": [],
   "source": [
    "df=pd.read_csv(r\"C:\\Users\\user\\Downloads\\archive (8)\\Electronic_sales_Sep2023-Sep2024.csv\")"
   ]
  },
  {
   "cell_type": "code",
   "execution_count": 11,
   "id": "6015d36d-1480-4a4a-aab1-faf2230901a5",
   "metadata": {},
   "outputs": [
    {
     "data": {
      "text/html": [
       "<div>\n",
       "<style scoped>\n",
       "    .dataframe tbody tr th:only-of-type {\n",
       "        vertical-align: middle;\n",
       "    }\n",
       "\n",
       "    .dataframe tbody tr th {\n",
       "        vertical-align: top;\n",
       "    }\n",
       "\n",
       "    .dataframe thead th {\n",
       "        text-align: right;\n",
       "    }\n",
       "</style>\n",
       "<table border=\"1\" class=\"dataframe\">\n",
       "  <thead>\n",
       "    <tr style=\"text-align: right;\">\n",
       "      <th></th>\n",
       "      <th>Customer ID</th>\n",
       "      <th>Age</th>\n",
       "      <th>Gender</th>\n",
       "      <th>Loyalty Member</th>\n",
       "      <th>Product Type</th>\n",
       "      <th>SKU</th>\n",
       "      <th>Rating</th>\n",
       "      <th>Order Status</th>\n",
       "      <th>Payment Method</th>\n",
       "      <th>Total Price</th>\n",
       "      <th>Unit Price</th>\n",
       "      <th>Quantity</th>\n",
       "      <th>Purchase Date</th>\n",
       "      <th>Shipping Type</th>\n",
       "      <th>Add-ons Purchased</th>\n",
       "      <th>Add-on Total</th>\n",
       "    </tr>\n",
       "  </thead>\n",
       "  <tbody>\n",
       "    <tr>\n",
       "      <th>0</th>\n",
       "      <td>1000</td>\n",
       "      <td>53</td>\n",
       "      <td>Male</td>\n",
       "      <td>No</td>\n",
       "      <td>Smartphone</td>\n",
       "      <td>SKU1004</td>\n",
       "      <td>2</td>\n",
       "      <td>Cancelled</td>\n",
       "      <td>Credit Card</td>\n",
       "      <td>5538.33</td>\n",
       "      <td>791.19</td>\n",
       "      <td>7</td>\n",
       "      <td>2024-03-20</td>\n",
       "      <td>Standard</td>\n",
       "      <td>Accessory,Accessory,Accessory</td>\n",
       "      <td>40.21</td>\n",
       "    </tr>\n",
       "    <tr>\n",
       "      <th>1</th>\n",
       "      <td>1000</td>\n",
       "      <td>53</td>\n",
       "      <td>Male</td>\n",
       "      <td>No</td>\n",
       "      <td>Tablet</td>\n",
       "      <td>SKU1002</td>\n",
       "      <td>3</td>\n",
       "      <td>Completed</td>\n",
       "      <td>Paypal</td>\n",
       "      <td>741.09</td>\n",
       "      <td>247.03</td>\n",
       "      <td>3</td>\n",
       "      <td>2024-04-20</td>\n",
       "      <td>Overnight</td>\n",
       "      <td>Impulse Item</td>\n",
       "      <td>26.09</td>\n",
       "    </tr>\n",
       "    <tr>\n",
       "      <th>2</th>\n",
       "      <td>1002</td>\n",
       "      <td>41</td>\n",
       "      <td>Male</td>\n",
       "      <td>No</td>\n",
       "      <td>Laptop</td>\n",
       "      <td>SKU1005</td>\n",
       "      <td>3</td>\n",
       "      <td>Completed</td>\n",
       "      <td>Credit Card</td>\n",
       "      <td>1855.84</td>\n",
       "      <td>463.96</td>\n",
       "      <td>4</td>\n",
       "      <td>2023-10-17</td>\n",
       "      <td>Express</td>\n",
       "      <td>NaN</td>\n",
       "      <td>0.00</td>\n",
       "    </tr>\n",
       "    <tr>\n",
       "      <th>3</th>\n",
       "      <td>1002</td>\n",
       "      <td>41</td>\n",
       "      <td>Male</td>\n",
       "      <td>Yes</td>\n",
       "      <td>Smartphone</td>\n",
       "      <td>SKU1004</td>\n",
       "      <td>2</td>\n",
       "      <td>Completed</td>\n",
       "      <td>Cash</td>\n",
       "      <td>3164.76</td>\n",
       "      <td>791.19</td>\n",
       "      <td>4</td>\n",
       "      <td>2024-08-09</td>\n",
       "      <td>Overnight</td>\n",
       "      <td>Impulse Item,Impulse Item</td>\n",
       "      <td>60.16</td>\n",
       "    </tr>\n",
       "    <tr>\n",
       "      <th>4</th>\n",
       "      <td>1003</td>\n",
       "      <td>75</td>\n",
       "      <td>Male</td>\n",
       "      <td>Yes</td>\n",
       "      <td>Smartphone</td>\n",
       "      <td>SKU1001</td>\n",
       "      <td>5</td>\n",
       "      <td>Completed</td>\n",
       "      <td>Cash</td>\n",
       "      <td>41.50</td>\n",
       "      <td>20.75</td>\n",
       "      <td>2</td>\n",
       "      <td>2024-05-21</td>\n",
       "      <td>Express</td>\n",
       "      <td>Accessory</td>\n",
       "      <td>35.56</td>\n",
       "    </tr>\n",
       "  </tbody>\n",
       "</table>\n",
       "</div>"
      ],
      "text/plain": [
       "   Customer ID  Age Gender Loyalty Member Product Type      SKU  Rating  \\\n",
       "0         1000   53   Male             No   Smartphone  SKU1004       2   \n",
       "1         1000   53   Male             No       Tablet  SKU1002       3   \n",
       "2         1002   41   Male             No       Laptop  SKU1005       3   \n",
       "3         1002   41   Male            Yes   Smartphone  SKU1004       2   \n",
       "4         1003   75   Male            Yes   Smartphone  SKU1001       5   \n",
       "\n",
       "  Order Status Payment Method  Total Price  Unit Price  Quantity  \\\n",
       "0    Cancelled    Credit Card      5538.33      791.19         7   \n",
       "1    Completed         Paypal       741.09      247.03         3   \n",
       "2    Completed    Credit Card      1855.84      463.96         4   \n",
       "3    Completed           Cash      3164.76      791.19         4   \n",
       "4    Completed           Cash        41.50       20.75         2   \n",
       "\n",
       "  Purchase Date Shipping Type              Add-ons Purchased  Add-on Total  \n",
       "0    2024-03-20      Standard  Accessory,Accessory,Accessory         40.21  \n",
       "1    2024-04-20     Overnight                   Impulse Item         26.09  \n",
       "2    2023-10-17       Express                            NaN          0.00  \n",
       "3    2024-08-09     Overnight      Impulse Item,Impulse Item         60.16  \n",
       "4    2024-05-21       Express                      Accessory         35.56  "
      ]
     },
     "execution_count": 11,
     "metadata": {},
     "output_type": "execute_result"
    }
   ],
   "source": [
    "df.head()"
   ]
  },
  {
   "cell_type": "code",
   "execution_count": 12,
   "id": "c43f01b4-b1cb-4f11-ac9f-ffed9621ca02",
   "metadata": {},
   "outputs": [
    {
     "data": {
      "text/plain": [
       "Customer ID             0\n",
       "Age                     0\n",
       "Gender                  1\n",
       "Loyalty Member          0\n",
       "Product Type            0\n",
       "SKU                     0\n",
       "Rating                  0\n",
       "Order Status            0\n",
       "Payment Method          0\n",
       "Total Price             0\n",
       "Unit Price              0\n",
       "Quantity                0\n",
       "Purchase Date           0\n",
       "Shipping Type           0\n",
       "Add-ons Purchased    4868\n",
       "Add-on Total            0\n",
       "dtype: int64"
      ]
     },
     "execution_count": 12,
     "metadata": {},
     "output_type": "execute_result"
    }
   ],
   "source": [
    "df.isnull().sum()"
   ]
  },
  {
   "cell_type": "code",
   "execution_count": 13,
   "id": "0f0200ba-de2e-4f9c-95a2-8de374ac8b87",
   "metadata": {},
   "outputs": [
    {
     "data": {
      "text/plain": [
       "(20000, 16)"
      ]
     },
     "execution_count": 13,
     "metadata": {},
     "output_type": "execute_result"
    }
   ],
   "source": [
    "df.shape"
   ]
  },
  {
   "cell_type": "code",
   "execution_count": 14,
   "id": "3557e527-b01b-4377-b49a-d2631ccbc4f1",
   "metadata": {},
   "outputs": [
    {
     "name": "stdout",
     "output_type": "stream",
     "text": [
      "<class 'pandas.core.frame.DataFrame'>\n",
      "RangeIndex: 20000 entries, 0 to 19999\n",
      "Data columns (total 16 columns):\n",
      " #   Column             Non-Null Count  Dtype  \n",
      "---  ------             --------------  -----  \n",
      " 0   Customer ID        20000 non-null  int64  \n",
      " 1   Age                20000 non-null  int64  \n",
      " 2   Gender             19999 non-null  object \n",
      " 3   Loyalty Member     20000 non-null  object \n",
      " 4   Product Type       20000 non-null  object \n",
      " 5   SKU                20000 non-null  object \n",
      " 6   Rating             20000 non-null  int64  \n",
      " 7   Order Status       20000 non-null  object \n",
      " 8   Payment Method     20000 non-null  object \n",
      " 9   Total Price        20000 non-null  float64\n",
      " 10  Unit Price         20000 non-null  float64\n",
      " 11  Quantity           20000 non-null  int64  \n",
      " 12  Purchase Date      20000 non-null  object \n",
      " 13  Shipping Type      20000 non-null  object \n",
      " 14  Add-ons Purchased  15132 non-null  object \n",
      " 15  Add-on Total       20000 non-null  float64\n",
      "dtypes: float64(3), int64(4), object(9)\n",
      "memory usage: 2.4+ MB\n"
     ]
    }
   ],
   "source": [
    "df.info()"
   ]
  },
  {
   "cell_type": "code",
   "execution_count": 15,
   "id": "5987a35d-bbf2-42c0-846d-659824004303",
   "metadata": {},
   "outputs": [],
   "source": [
    "df.drop(['Customer ID','SKU'],axis=1,inplace=True)"
   ]
  },
  {
   "cell_type": "code",
   "execution_count": 16,
   "id": "38c8e903-698a-4476-aa74-4311ddc4d0c4",
   "metadata": {},
   "outputs": [
    {
     "data": {
      "text/html": [
       "<div>\n",
       "<style scoped>\n",
       "    .dataframe tbody tr th:only-of-type {\n",
       "        vertical-align: middle;\n",
       "    }\n",
       "\n",
       "    .dataframe tbody tr th {\n",
       "        vertical-align: top;\n",
       "    }\n",
       "\n",
       "    .dataframe thead th {\n",
       "        text-align: right;\n",
       "    }\n",
       "</style>\n",
       "<table border=\"1\" class=\"dataframe\">\n",
       "  <thead>\n",
       "    <tr style=\"text-align: right;\">\n",
       "      <th></th>\n",
       "      <th>Age</th>\n",
       "      <th>Gender</th>\n",
       "      <th>Loyalty Member</th>\n",
       "      <th>Product Type</th>\n",
       "      <th>Rating</th>\n",
       "      <th>Order Status</th>\n",
       "      <th>Payment Method</th>\n",
       "      <th>Total Price</th>\n",
       "      <th>Unit Price</th>\n",
       "      <th>Quantity</th>\n",
       "      <th>Purchase Date</th>\n",
       "      <th>Shipping Type</th>\n",
       "      <th>Add-ons Purchased</th>\n",
       "      <th>Add-on Total</th>\n",
       "    </tr>\n",
       "  </thead>\n",
       "  <tbody>\n",
       "    <tr>\n",
       "      <th>0</th>\n",
       "      <td>53</td>\n",
       "      <td>Male</td>\n",
       "      <td>No</td>\n",
       "      <td>Smartphone</td>\n",
       "      <td>2</td>\n",
       "      <td>Cancelled</td>\n",
       "      <td>Credit Card</td>\n",
       "      <td>5538.33</td>\n",
       "      <td>791.19</td>\n",
       "      <td>7</td>\n",
       "      <td>2024-03-20</td>\n",
       "      <td>Standard</td>\n",
       "      <td>Accessory,Accessory,Accessory</td>\n",
       "      <td>40.21</td>\n",
       "    </tr>\n",
       "    <tr>\n",
       "      <th>1</th>\n",
       "      <td>53</td>\n",
       "      <td>Male</td>\n",
       "      <td>No</td>\n",
       "      <td>Tablet</td>\n",
       "      <td>3</td>\n",
       "      <td>Completed</td>\n",
       "      <td>Paypal</td>\n",
       "      <td>741.09</td>\n",
       "      <td>247.03</td>\n",
       "      <td>3</td>\n",
       "      <td>2024-04-20</td>\n",
       "      <td>Overnight</td>\n",
       "      <td>Impulse Item</td>\n",
       "      <td>26.09</td>\n",
       "    </tr>\n",
       "    <tr>\n",
       "      <th>2</th>\n",
       "      <td>41</td>\n",
       "      <td>Male</td>\n",
       "      <td>No</td>\n",
       "      <td>Laptop</td>\n",
       "      <td>3</td>\n",
       "      <td>Completed</td>\n",
       "      <td>Credit Card</td>\n",
       "      <td>1855.84</td>\n",
       "      <td>463.96</td>\n",
       "      <td>4</td>\n",
       "      <td>2023-10-17</td>\n",
       "      <td>Express</td>\n",
       "      <td>NaN</td>\n",
       "      <td>0.00</td>\n",
       "    </tr>\n",
       "    <tr>\n",
       "      <th>3</th>\n",
       "      <td>41</td>\n",
       "      <td>Male</td>\n",
       "      <td>Yes</td>\n",
       "      <td>Smartphone</td>\n",
       "      <td>2</td>\n",
       "      <td>Completed</td>\n",
       "      <td>Cash</td>\n",
       "      <td>3164.76</td>\n",
       "      <td>791.19</td>\n",
       "      <td>4</td>\n",
       "      <td>2024-08-09</td>\n",
       "      <td>Overnight</td>\n",
       "      <td>Impulse Item,Impulse Item</td>\n",
       "      <td>60.16</td>\n",
       "    </tr>\n",
       "    <tr>\n",
       "      <th>4</th>\n",
       "      <td>75</td>\n",
       "      <td>Male</td>\n",
       "      <td>Yes</td>\n",
       "      <td>Smartphone</td>\n",
       "      <td>5</td>\n",
       "      <td>Completed</td>\n",
       "      <td>Cash</td>\n",
       "      <td>41.50</td>\n",
       "      <td>20.75</td>\n",
       "      <td>2</td>\n",
       "      <td>2024-05-21</td>\n",
       "      <td>Express</td>\n",
       "      <td>Accessory</td>\n",
       "      <td>35.56</td>\n",
       "    </tr>\n",
       "  </tbody>\n",
       "</table>\n",
       "</div>"
      ],
      "text/plain": [
       "   Age Gender Loyalty Member Product Type  Rating Order Status Payment Method  \\\n",
       "0   53   Male             No   Smartphone       2    Cancelled    Credit Card   \n",
       "1   53   Male             No       Tablet       3    Completed         Paypal   \n",
       "2   41   Male             No       Laptop       3    Completed    Credit Card   \n",
       "3   41   Male            Yes   Smartphone       2    Completed           Cash   \n",
       "4   75   Male            Yes   Smartphone       5    Completed           Cash   \n",
       "\n",
       "   Total Price  Unit Price  Quantity Purchase Date Shipping Type  \\\n",
       "0      5538.33      791.19         7    2024-03-20      Standard   \n",
       "1       741.09      247.03         3    2024-04-20     Overnight   \n",
       "2      1855.84      463.96         4    2023-10-17       Express   \n",
       "3      3164.76      791.19         4    2024-08-09     Overnight   \n",
       "4        41.50       20.75         2    2024-05-21       Express   \n",
       "\n",
       "               Add-ons Purchased  Add-on Total  \n",
       "0  Accessory,Accessory,Accessory         40.21  \n",
       "1                   Impulse Item         26.09  \n",
       "2                            NaN          0.00  \n",
       "3      Impulse Item,Impulse Item         60.16  \n",
       "4                      Accessory         35.56  "
      ]
     },
     "execution_count": 16,
     "metadata": {},
     "output_type": "execute_result"
    }
   ],
   "source": [
    "df.head()"
   ]
  },
  {
   "cell_type": "code",
   "execution_count": 17,
   "id": "7c2cc254-5dd5-4885-a023-dfc9f76ab0f3",
   "metadata": {},
   "outputs": [
    {
     "data": {
      "text/plain": [
       "Index(['Age', 'Gender', 'Loyalty Member', 'Product Type', 'Rating',\n",
       "       'Order Status', 'Payment Method', 'Total Price', 'Unit Price',\n",
       "       'Quantity', 'Purchase Date', 'Shipping Type', 'Add-ons Purchased',\n",
       "       'Add-on Total'],\n",
       "      dtype='object')"
      ]
     },
     "execution_count": 17,
     "metadata": {},
     "output_type": "execute_result"
    }
   ],
   "source": [
    "df.columns"
   ]
  },
  {
   "cell_type": "code",
   "execution_count": 18,
   "id": "585a681d-1510-49a1-9857-49e1bf9c1722",
   "metadata": {},
   "outputs": [],
   "source": [
    "df.columns=df.columns.str.replace(' ','_').str.lower()"
   ]
  },
  {
   "cell_type": "code",
   "execution_count": 19,
   "id": "816879a2-0589-4360-b402-770d1a80e67d",
   "metadata": {},
   "outputs": [
    {
     "data": {
      "text/html": [
       "<div>\n",
       "<style scoped>\n",
       "    .dataframe tbody tr th:only-of-type {\n",
       "        vertical-align: middle;\n",
       "    }\n",
       "\n",
       "    .dataframe tbody tr th {\n",
       "        vertical-align: top;\n",
       "    }\n",
       "\n",
       "    .dataframe thead th {\n",
       "        text-align: right;\n",
       "    }\n",
       "</style>\n",
       "<table border=\"1\" class=\"dataframe\">\n",
       "  <thead>\n",
       "    <tr style=\"text-align: right;\">\n",
       "      <th></th>\n",
       "      <th>age</th>\n",
       "      <th>gender</th>\n",
       "      <th>loyalty_member</th>\n",
       "      <th>product_type</th>\n",
       "      <th>rating</th>\n",
       "      <th>order_status</th>\n",
       "      <th>payment_method</th>\n",
       "      <th>total_price</th>\n",
       "      <th>unit_price</th>\n",
       "      <th>quantity</th>\n",
       "      <th>purchase_date</th>\n",
       "      <th>shipping_type</th>\n",
       "      <th>add-ons_purchased</th>\n",
       "      <th>add-on_total</th>\n",
       "    </tr>\n",
       "  </thead>\n",
       "  <tbody>\n",
       "    <tr>\n",
       "      <th>0</th>\n",
       "      <td>53</td>\n",
       "      <td>Male</td>\n",
       "      <td>No</td>\n",
       "      <td>Smartphone</td>\n",
       "      <td>2</td>\n",
       "      <td>Cancelled</td>\n",
       "      <td>Credit Card</td>\n",
       "      <td>5538.33</td>\n",
       "      <td>791.19</td>\n",
       "      <td>7</td>\n",
       "      <td>2024-03-20</td>\n",
       "      <td>Standard</td>\n",
       "      <td>Accessory,Accessory,Accessory</td>\n",
       "      <td>40.21</td>\n",
       "    </tr>\n",
       "    <tr>\n",
       "      <th>1</th>\n",
       "      <td>53</td>\n",
       "      <td>Male</td>\n",
       "      <td>No</td>\n",
       "      <td>Tablet</td>\n",
       "      <td>3</td>\n",
       "      <td>Completed</td>\n",
       "      <td>Paypal</td>\n",
       "      <td>741.09</td>\n",
       "      <td>247.03</td>\n",
       "      <td>3</td>\n",
       "      <td>2024-04-20</td>\n",
       "      <td>Overnight</td>\n",
       "      <td>Impulse Item</td>\n",
       "      <td>26.09</td>\n",
       "    </tr>\n",
       "    <tr>\n",
       "      <th>2</th>\n",
       "      <td>41</td>\n",
       "      <td>Male</td>\n",
       "      <td>No</td>\n",
       "      <td>Laptop</td>\n",
       "      <td>3</td>\n",
       "      <td>Completed</td>\n",
       "      <td>Credit Card</td>\n",
       "      <td>1855.84</td>\n",
       "      <td>463.96</td>\n",
       "      <td>4</td>\n",
       "      <td>2023-10-17</td>\n",
       "      <td>Express</td>\n",
       "      <td>NaN</td>\n",
       "      <td>0.00</td>\n",
       "    </tr>\n",
       "    <tr>\n",
       "      <th>3</th>\n",
       "      <td>41</td>\n",
       "      <td>Male</td>\n",
       "      <td>Yes</td>\n",
       "      <td>Smartphone</td>\n",
       "      <td>2</td>\n",
       "      <td>Completed</td>\n",
       "      <td>Cash</td>\n",
       "      <td>3164.76</td>\n",
       "      <td>791.19</td>\n",
       "      <td>4</td>\n",
       "      <td>2024-08-09</td>\n",
       "      <td>Overnight</td>\n",
       "      <td>Impulse Item,Impulse Item</td>\n",
       "      <td>60.16</td>\n",
       "    </tr>\n",
       "    <tr>\n",
       "      <th>4</th>\n",
       "      <td>75</td>\n",
       "      <td>Male</td>\n",
       "      <td>Yes</td>\n",
       "      <td>Smartphone</td>\n",
       "      <td>5</td>\n",
       "      <td>Completed</td>\n",
       "      <td>Cash</td>\n",
       "      <td>41.50</td>\n",
       "      <td>20.75</td>\n",
       "      <td>2</td>\n",
       "      <td>2024-05-21</td>\n",
       "      <td>Express</td>\n",
       "      <td>Accessory</td>\n",
       "      <td>35.56</td>\n",
       "    </tr>\n",
       "  </tbody>\n",
       "</table>\n",
       "</div>"
      ],
      "text/plain": [
       "   age gender loyalty_member product_type  rating order_status payment_method  \\\n",
       "0   53   Male             No   Smartphone       2    Cancelled    Credit Card   \n",
       "1   53   Male             No       Tablet       3    Completed         Paypal   \n",
       "2   41   Male             No       Laptop       3    Completed    Credit Card   \n",
       "3   41   Male            Yes   Smartphone       2    Completed           Cash   \n",
       "4   75   Male            Yes   Smartphone       5    Completed           Cash   \n",
       "\n",
       "   total_price  unit_price  quantity purchase_date shipping_type  \\\n",
       "0      5538.33      791.19         7    2024-03-20      Standard   \n",
       "1       741.09      247.03         3    2024-04-20     Overnight   \n",
       "2      1855.84      463.96         4    2023-10-17       Express   \n",
       "3      3164.76      791.19         4    2024-08-09     Overnight   \n",
       "4        41.50       20.75         2    2024-05-21       Express   \n",
       "\n",
       "               add-ons_purchased  add-on_total  \n",
       "0  Accessory,Accessory,Accessory         40.21  \n",
       "1                   Impulse Item         26.09  \n",
       "2                            NaN          0.00  \n",
       "3      Impulse Item,Impulse Item         60.16  \n",
       "4                      Accessory         35.56  "
      ]
     },
     "execution_count": 19,
     "metadata": {},
     "output_type": "execute_result"
    }
   ],
   "source": [
    "df.head()"
   ]
  },
  {
   "cell_type": "markdown",
   "id": "05f3933f-426d-4ed0-bb75-e7ccd8636212",
   "metadata": {},
   "source": [
    "##  PROBLEM STSTEMENT 1. >> Which payment methods are most common"
   ]
  },
  {
   "cell_type": "code",
   "execution_count": 21,
   "id": "f18df54d-3852-4fce-b597-80f4f8e090d9",
   "metadata": {},
   "outputs": [],
   "source": [
    "df['payment_method']=df['payment_method'].str.lower()"
   ]
  },
  {
   "cell_type": "code",
   "execution_count": 22,
   "id": "0710d4bc-8e47-4565-b823-e738ec0f6aac",
   "metadata": {},
   "outputs": [
    {
     "data": {
      "text/plain": [
       "payment_method\n",
       "credit card      5868\n",
       "paypal           5798\n",
       "bank transfer    3371\n",
       "cash             2492\n",
       "debit card       2471\n",
       "Name: count, dtype: int64"
      ]
     },
     "execution_count": 22,
     "metadata": {},
     "output_type": "execute_result"
    }
   ],
   "source": [
    "df['payment_method'].value_counts()#.plot(kind='bar',color='orange')"
   ]
  },
  {
   "cell_type": "markdown",
   "id": "cef5d730-3060-423e-a515-d36b15de3966",
   "metadata": {},
   "source": [
    "## CONCLUSION 1. >> Credit card is the most prefered payment method followed by Paypal"
   ]
  },
  {
   "cell_type": "code",
   "execution_count": null,
   "id": "7ee86805-1f66-43b3-8442-bdcd47886da6",
   "metadata": {},
   "outputs": [],
   "source": []
  },
  {
   "cell_type": "markdown",
   "id": "cf52b6ae-6b62-4bb6-b1a5-4fa807e80f9b",
   "metadata": {},
   "source": [
    "## PROBLEM STATEMENT 2 >>  Payment menthods used by gender"
   ]
  },
  {
   "cell_type": "code",
   "execution_count": 80,
   "id": "6058b63c-0970-4b5e-b6bd-5ef7468c74fa",
   "metadata": {},
   "outputs": [
    {
     "data": {
      "text/html": [
       "<div>\n",
       "<style scoped>\n",
       "    .dataframe tbody tr th:only-of-type {\n",
       "        vertical-align: middle;\n",
       "    }\n",
       "\n",
       "    .dataframe tbody tr th {\n",
       "        vertical-align: top;\n",
       "    }\n",
       "\n",
       "    .dataframe thead th {\n",
       "        text-align: right;\n",
       "    }\n",
       "</style>\n",
       "<table border=\"1\" class=\"dataframe\">\n",
       "  <thead>\n",
       "    <tr style=\"text-align: right;\">\n",
       "      <th></th>\n",
       "      <th>payment_method</th>\n",
       "      <th>gender</th>\n",
       "      <th>count</th>\n",
       "    </tr>\n",
       "  </thead>\n",
       "  <tbody>\n",
       "    <tr>\n",
       "      <th>0</th>\n",
       "      <td>credit card</td>\n",
       "      <td>Male</td>\n",
       "      <td>2997</td>\n",
       "    </tr>\n",
       "    <tr>\n",
       "      <th>1</th>\n",
       "      <td>paypal</td>\n",
       "      <td>Male</td>\n",
       "      <td>2945</td>\n",
       "    </tr>\n",
       "    <tr>\n",
       "      <th>2</th>\n",
       "      <td>credit card</td>\n",
       "      <td>Female</td>\n",
       "      <td>2871</td>\n",
       "    </tr>\n",
       "    <tr>\n",
       "      <th>3</th>\n",
       "      <td>paypal</td>\n",
       "      <td>Female</td>\n",
       "      <td>2853</td>\n",
       "    </tr>\n",
       "    <tr>\n",
       "      <th>4</th>\n",
       "      <td>bank transfer</td>\n",
       "      <td>Male</td>\n",
       "      <td>1778</td>\n",
       "    </tr>\n",
       "    <tr>\n",
       "      <th>5</th>\n",
       "      <td>bank transfer</td>\n",
       "      <td>Female</td>\n",
       "      <td>1592</td>\n",
       "    </tr>\n",
       "    <tr>\n",
       "      <th>6</th>\n",
       "      <td>cash</td>\n",
       "      <td>Female</td>\n",
       "      <td>1287</td>\n",
       "    </tr>\n",
       "    <tr>\n",
       "      <th>7</th>\n",
       "      <td>debit card</td>\n",
       "      <td>Male</td>\n",
       "      <td>1239</td>\n",
       "    </tr>\n",
       "    <tr>\n",
       "      <th>8</th>\n",
       "      <td>debit card</td>\n",
       "      <td>Female</td>\n",
       "      <td>1232</td>\n",
       "    </tr>\n",
       "    <tr>\n",
       "      <th>9</th>\n",
       "      <td>cash</td>\n",
       "      <td>Male</td>\n",
       "      <td>1205</td>\n",
       "    </tr>\n",
       "  </tbody>\n",
       "</table>\n",
       "</div>"
      ],
      "text/plain": [
       "  payment_method  gender  count\n",
       "0    credit card    Male   2997\n",
       "1         paypal    Male   2945\n",
       "2    credit card  Female   2871\n",
       "3         paypal  Female   2853\n",
       "4  bank transfer    Male   1778\n",
       "5  bank transfer  Female   1592\n",
       "6           cash  Female   1287\n",
       "7     debit card    Male   1239\n",
       "8     debit card  Female   1232\n",
       "9           cash    Male   1205"
      ]
     },
     "execution_count": 80,
     "metadata": {},
     "output_type": "execute_result"
    }
   ],
   "source": [
    "df[['payment_method','gender']].value_counts().reset_index().tail(40)#.sort_values(by='payment_method')"
   ]
  },
  {
   "cell_type": "markdown",
   "id": "d2e03af4-2694-470a-af9b-f82306ccf329",
   "metadata": {},
   "source": [
    "##  CONCLUSION 2. >> Male using credit card as major payment menthod and female prefere debit card or cash"
   ]
  },
  {
   "cell_type": "code",
   "execution_count": null,
   "id": "fd11f3ad-684f-4e83-9608-5d2a6e9279f7",
   "metadata": {},
   "outputs": [],
   "source": []
  },
  {
   "cell_type": "markdown",
   "id": "92b35426-1e45-4d40-9800-8dab27798297",
   "metadata": {},
   "source": [
    "## PROBLEM STATEMENT 3 >> Age-wise preference of payment menthod"
   ]
  },
  {
   "cell_type": "code",
   "execution_count": 79,
   "id": "43ae0591-b7d0-4626-ae54-8e9bbc678cf2",
   "metadata": {},
   "outputs": [
    {
     "data": {
      "text/html": [
       "<div>\n",
       "<style scoped>\n",
       "    .dataframe tbody tr th:only-of-type {\n",
       "        vertical-align: middle;\n",
       "    }\n",
       "\n",
       "    .dataframe tbody tr th {\n",
       "        vertical-align: top;\n",
       "    }\n",
       "\n",
       "    .dataframe thead th {\n",
       "        text-align: right;\n",
       "    }\n",
       "</style>\n",
       "<table border=\"1\" class=\"dataframe\">\n",
       "  <thead>\n",
       "    <tr style=\"text-align: right;\">\n",
       "      <th></th>\n",
       "      <th>payment_method</th>\n",
       "      <th>age</th>\n",
       "      <th>count</th>\n",
       "    </tr>\n",
       "  </thead>\n",
       "  <tbody>\n",
       "    <tr>\n",
       "      <th>275</th>\n",
       "      <td>cash</td>\n",
       "      <td>31</td>\n",
       "      <td>36</td>\n",
       "    </tr>\n",
       "    <tr>\n",
       "      <th>276</th>\n",
       "      <td>debit card</td>\n",
       "      <td>77</td>\n",
       "      <td>36</td>\n",
       "    </tr>\n",
       "    <tr>\n",
       "      <th>277</th>\n",
       "      <td>cash</td>\n",
       "      <td>22</td>\n",
       "      <td>36</td>\n",
       "    </tr>\n",
       "    <tr>\n",
       "      <th>278</th>\n",
       "      <td>debit card</td>\n",
       "      <td>18</td>\n",
       "      <td>36</td>\n",
       "    </tr>\n",
       "    <tr>\n",
       "      <th>279</th>\n",
       "      <td>debit card</td>\n",
       "      <td>32</td>\n",
       "      <td>36</td>\n",
       "    </tr>\n",
       "    <tr>\n",
       "      <th>280</th>\n",
       "      <td>cash</td>\n",
       "      <td>34</td>\n",
       "      <td>36</td>\n",
       "    </tr>\n",
       "    <tr>\n",
       "      <th>281</th>\n",
       "      <td>cash</td>\n",
       "      <td>80</td>\n",
       "      <td>35</td>\n",
       "    </tr>\n",
       "    <tr>\n",
       "      <th>282</th>\n",
       "      <td>cash</td>\n",
       "      <td>50</td>\n",
       "      <td>35</td>\n",
       "    </tr>\n",
       "    <tr>\n",
       "      <th>283</th>\n",
       "      <td>cash</td>\n",
       "      <td>30</td>\n",
       "      <td>35</td>\n",
       "    </tr>\n",
       "    <tr>\n",
       "      <th>284</th>\n",
       "      <td>debit card</td>\n",
       "      <td>58</td>\n",
       "      <td>35</td>\n",
       "    </tr>\n",
       "    <tr>\n",
       "      <th>285</th>\n",
       "      <td>debit card</td>\n",
       "      <td>65</td>\n",
       "      <td>35</td>\n",
       "    </tr>\n",
       "    <tr>\n",
       "      <th>286</th>\n",
       "      <td>debit card</td>\n",
       "      <td>66</td>\n",
       "      <td>35</td>\n",
       "    </tr>\n",
       "    <tr>\n",
       "      <th>287</th>\n",
       "      <td>debit card</td>\n",
       "      <td>79</td>\n",
       "      <td>34</td>\n",
       "    </tr>\n",
       "    <tr>\n",
       "      <th>288</th>\n",
       "      <td>debit card</td>\n",
       "      <td>72</td>\n",
       "      <td>34</td>\n",
       "    </tr>\n",
       "    <tr>\n",
       "      <th>289</th>\n",
       "      <td>debit card</td>\n",
       "      <td>64</td>\n",
       "      <td>34</td>\n",
       "    </tr>\n",
       "    <tr>\n",
       "      <th>290</th>\n",
       "      <td>cash</td>\n",
       "      <td>58</td>\n",
       "      <td>34</td>\n",
       "    </tr>\n",
       "    <tr>\n",
       "      <th>291</th>\n",
       "      <td>debit card</td>\n",
       "      <td>47</td>\n",
       "      <td>34</td>\n",
       "    </tr>\n",
       "    <tr>\n",
       "      <th>292</th>\n",
       "      <td>cash</td>\n",
       "      <td>79</td>\n",
       "      <td>33</td>\n",
       "    </tr>\n",
       "    <tr>\n",
       "      <th>293</th>\n",
       "      <td>cash</td>\n",
       "      <td>38</td>\n",
       "      <td>33</td>\n",
       "    </tr>\n",
       "    <tr>\n",
       "      <th>294</th>\n",
       "      <td>debit card</td>\n",
       "      <td>34</td>\n",
       "      <td>33</td>\n",
       "    </tr>\n",
       "    <tr>\n",
       "      <th>295</th>\n",
       "      <td>cash</td>\n",
       "      <td>60</td>\n",
       "      <td>32</td>\n",
       "    </tr>\n",
       "    <tr>\n",
       "      <th>296</th>\n",
       "      <td>debit card</td>\n",
       "      <td>25</td>\n",
       "      <td>32</td>\n",
       "    </tr>\n",
       "    <tr>\n",
       "      <th>297</th>\n",
       "      <td>debit card</td>\n",
       "      <td>68</td>\n",
       "      <td>31</td>\n",
       "    </tr>\n",
       "    <tr>\n",
       "      <th>298</th>\n",
       "      <td>cash</td>\n",
       "      <td>20</td>\n",
       "      <td>31</td>\n",
       "    </tr>\n",
       "    <tr>\n",
       "      <th>299</th>\n",
       "      <td>debit card</td>\n",
       "      <td>49</td>\n",
       "      <td>30</td>\n",
       "    </tr>\n",
       "    <tr>\n",
       "      <th>300</th>\n",
       "      <td>cash</td>\n",
       "      <td>66</td>\n",
       "      <td>30</td>\n",
       "    </tr>\n",
       "    <tr>\n",
       "      <th>301</th>\n",
       "      <td>debit card</td>\n",
       "      <td>70</td>\n",
       "      <td>30</td>\n",
       "    </tr>\n",
       "    <tr>\n",
       "      <th>302</th>\n",
       "      <td>debit card</td>\n",
       "      <td>26</td>\n",
       "      <td>29</td>\n",
       "    </tr>\n",
       "    <tr>\n",
       "      <th>303</th>\n",
       "      <td>debit card</td>\n",
       "      <td>45</td>\n",
       "      <td>29</td>\n",
       "    </tr>\n",
       "    <tr>\n",
       "      <th>304</th>\n",
       "      <td>cash</td>\n",
       "      <td>59</td>\n",
       "      <td>29</td>\n",
       "    </tr>\n",
       "    <tr>\n",
       "      <th>305</th>\n",
       "      <td>cash</td>\n",
       "      <td>23</td>\n",
       "      <td>29</td>\n",
       "    </tr>\n",
       "    <tr>\n",
       "      <th>306</th>\n",
       "      <td>cash</td>\n",
       "      <td>25</td>\n",
       "      <td>29</td>\n",
       "    </tr>\n",
       "    <tr>\n",
       "      <th>307</th>\n",
       "      <td>cash</td>\n",
       "      <td>76</td>\n",
       "      <td>29</td>\n",
       "    </tr>\n",
       "    <tr>\n",
       "      <th>308</th>\n",
       "      <td>cash</td>\n",
       "      <td>18</td>\n",
       "      <td>28</td>\n",
       "    </tr>\n",
       "    <tr>\n",
       "      <th>309</th>\n",
       "      <td>debit card</td>\n",
       "      <td>30</td>\n",
       "      <td>27</td>\n",
       "    </tr>\n",
       "    <tr>\n",
       "      <th>310</th>\n",
       "      <td>cash</td>\n",
       "      <td>26</td>\n",
       "      <td>27</td>\n",
       "    </tr>\n",
       "    <tr>\n",
       "      <th>311</th>\n",
       "      <td>cash</td>\n",
       "      <td>37</td>\n",
       "      <td>26</td>\n",
       "    </tr>\n",
       "    <tr>\n",
       "      <th>312</th>\n",
       "      <td>debit card</td>\n",
       "      <td>51</td>\n",
       "      <td>25</td>\n",
       "    </tr>\n",
       "    <tr>\n",
       "      <th>313</th>\n",
       "      <td>cash</td>\n",
       "      <td>46</td>\n",
       "      <td>24</td>\n",
       "    </tr>\n",
       "    <tr>\n",
       "      <th>314</th>\n",
       "      <td>cash</td>\n",
       "      <td>70</td>\n",
       "      <td>24</td>\n",
       "    </tr>\n",
       "  </tbody>\n",
       "</table>\n",
       "</div>"
      ],
      "text/plain": [
       "    payment_method  age  count\n",
       "275           cash   31     36\n",
       "276     debit card   77     36\n",
       "277           cash   22     36\n",
       "278     debit card   18     36\n",
       "279     debit card   32     36\n",
       "280           cash   34     36\n",
       "281           cash   80     35\n",
       "282           cash   50     35\n",
       "283           cash   30     35\n",
       "284     debit card   58     35\n",
       "285     debit card   65     35\n",
       "286     debit card   66     35\n",
       "287     debit card   79     34\n",
       "288     debit card   72     34\n",
       "289     debit card   64     34\n",
       "290           cash   58     34\n",
       "291     debit card   47     34\n",
       "292           cash   79     33\n",
       "293           cash   38     33\n",
       "294     debit card   34     33\n",
       "295           cash   60     32\n",
       "296     debit card   25     32\n",
       "297     debit card   68     31\n",
       "298           cash   20     31\n",
       "299     debit card   49     30\n",
       "300           cash   66     30\n",
       "301     debit card   70     30\n",
       "302     debit card   26     29\n",
       "303     debit card   45     29\n",
       "304           cash   59     29\n",
       "305           cash   23     29\n",
       "306           cash   25     29\n",
       "307           cash   76     29\n",
       "308           cash   18     28\n",
       "309     debit card   30     27\n",
       "310           cash   26     27\n",
       "311           cash   37     26\n",
       "312     debit card   51     25\n",
       "313           cash   46     24\n",
       "314           cash   70     24"
      ]
     },
     "execution_count": 79,
     "metadata": {},
     "output_type": "execute_result"
    }
   ],
   "source": [
    "df[['payment_method','age']].value_counts().reset_index().tail(40)#.sort_values(by='payment_method')"
   ]
  },
  {
   "cell_type": "markdown",
   "id": "b7646cb9-42ce-4473-bec5-2e46bc38ef9c",
   "metadata": {},
   "source": [
    "## CONCLUSION 3. Age group 40-50 are more involved in credit card/paypal paymet menthod and age group below 30 or above 55 is more involved in cash payment"
   ]
  },
  {
   "cell_type": "code",
   "execution_count": null,
   "id": "1e45c688-81d3-44b5-9867-965e5cbbfbce",
   "metadata": {},
   "outputs": [],
   "source": []
  },
  {
   "cell_type": "markdown",
   "id": "4dc10949-acb4-4ef3-b42f-e9b938e4fbea",
   "metadata": {},
   "source": [
    "## PROBLEM STATEMENT 4.>> TOP 5 PRODUCT IN SALES"
   ]
  },
  {
   "cell_type": "code",
   "execution_count": 81,
   "id": "79bb47af-0428-4bff-92aa-8b40de33a4cc",
   "metadata": {},
   "outputs": [
    {
     "data": {
      "text/plain": [
       "product_type\n",
       "Headphones     4041400.24\n",
       "Laptop        12296239.97\n",
       "Smartphone    21516754.69\n",
       "Smartwatch    14036273.06\n",
       "Tablet        11712000.41\n",
       "Name: total_price, dtype: float64"
      ]
     },
     "execution_count": 81,
     "metadata": {},
     "output_type": "execute_result"
    }
   ],
   "source": [
    "df.groupby('product_type')['total_price'].sum()"
   ]
  },
  {
   "cell_type": "code",
   "execution_count": 28,
   "id": "fda00253-e6aa-4d1f-8746-5a72543b23f3",
   "metadata": {},
   "outputs": [
    {
     "data": {
      "text/plain": [
       "<Axes: xlabel='product_type'>"
      ]
     },
     "execution_count": 28,
     "metadata": {},
     "output_type": "execute_result"
    },
    {
     "data": {
      "image/png": "[encoded data removed]",
      "text/plain": [
       "<Figure size 640x480 with 1 Axes>"
      ]
     },
     "metadata": {},
     "output_type": "display_data"
    }
   ],
   "source": [
    "df.groupby('product_type')['total_price'].sum().plot(kind='bar')"
   ]
  },
  {
   "cell_type": "markdown",
   "id": "e7bdb9a0-baec-4133-acd3-48eb2065c36f",
   "metadata": {},
   "source": [
    "## CONCLUSION 4.>> Smartphones are the top sales products followed by smartwatches"
   ]
  },
  {
   "cell_type": "code",
   "execution_count": null,
   "id": "9bd656a7-24a9-420c-8d1f-95c04d5fa294",
   "metadata": {},
   "outputs": [],
   "source": []
  },
  {
   "cell_type": "markdown",
   "id": "4c96aa7e-fd63-4b8c-ae7c-ecc0d3ecd028",
   "metadata": {},
   "source": [
    "## PROBLEM STSTEMENT 5.>> Order cancelled analysis"
   ]
  },
  {
   "cell_type": "code",
   "execution_count": 31,
   "id": "98ca73f5-be52-4c19-936f-61255372c964",
   "metadata": {},
   "outputs": [],
   "source": [
    "dfc=df[df['order_status']=='Cancelled']"
   ]
  },
  {
   "cell_type": "code",
   "execution_count": 32,
   "id": "4067ac11-a163-4780-a22f-4138ab6ab5e6",
   "metadata": {},
   "outputs": [
    {
     "data": {
      "text/plain": [
       "loyalty_member\n",
       "No     5145\n",
       "Yes    1423\n",
       "Name: count, dtype: int64"
      ]
     },
     "execution_count": 32,
     "metadata": {},
     "output_type": "execute_result"
    }
   ],
   "source": [
    "dfc['loyalty_member'].value_counts()"
   ]
  },
  {
   "cell_type": "markdown",
   "id": "3ed289a3-cfd9-47c4-b9b7-c53be12a0c8f",
   "metadata": {},
   "source": [
    "## CONCLUSION 5. Cancelations are more by people who are not in loyalty menbers group."
   ]
  },
  {
   "cell_type": "code",
   "execution_count": null,
   "id": "78799e1c-e7a4-4b28-baa9-ab5b4f9b1a95",
   "metadata": {},
   "outputs": [],
   "source": []
  },
  {
   "cell_type": "markdown",
   "id": "40165b8f-c89c-4be8-8d10-b9e6e92a2d88",
   "metadata": {},
   "source": [
    "## PROBLEM STSTEMENT 6.>> Rating Analysis"
   ]
  },
  {
   "cell_type": "code",
   "execution_count": 34,
   "id": "3a1a244f-8775-4df3-aadd-397b89a434f9",
   "metadata": {},
   "outputs": [
    {
     "data": {
      "text/plain": [
       "rating\n",
       "3    7963\n",
       "2    3972\n",
       "5    3969\n",
       "1    2061\n",
       "4    2035\n",
       "Name: count, dtype: int64"
      ]
     },
     "execution_count": 34,
     "metadata": {},
     "output_type": "execute_result"
    }
   ],
   "source": [
    "df['rating'].value_counts()"
   ]
  },
  {
   "cell_type": "markdown",
   "id": "f4fdeb6d-283d-4215-9c74-0c97d675217b",
   "metadata": {},
   "source": [
    "## CONCLUSION 6.>> Most of the rating are for 3 & 2,company needs to improve the overall service to get 4 & 5 ratings"
   ]
  },
  {
   "cell_type": "code",
   "execution_count": null,
   "id": "d5cc9a75-6aa7-403e-bea9-912d0e73125c",
   "metadata": {},
   "outputs": [],
   "source": []
  },
  {
   "cell_type": "code",
   "execution_count": null,
   "id": "55dde2a2-b08c-44f1-a2b4-d3c2e928a059",
   "metadata": {},
   "outputs": [],
   "source": []
  },
  {
   "cell_type": "markdown",
   "id": "fcdd0600-77db-4d2c-a406-472dd7f677b6",
   "metadata": {},
   "source": [
    "## PROBLEM STSTEMENT 7.>> Prefered shipping type and cancelled status analysis"
   ]
  },
  {
   "cell_type": "code",
   "execution_count": 37,
   "id": "f6af167f-3e5d-4c0b-80ad-54ae9a5f175e",
   "metadata": {},
   "outputs": [
    {
     "data": {
      "text/plain": [
       "shipping_type  order_status\n",
       "Standard       Completed       4561\n",
       "Overnight      Completed       2247\n",
       "Express        Completed       2227\n",
       "Expedited      Completed       2210\n",
       "Same Day       Completed       2187\n",
       "Standard       Cancelled       2164\n",
       "Express        Cancelled       1139\n",
       "Overnight      Cancelled       1110\n",
       "Same Day       Cancelled       1093\n",
       "Expedited      Cancelled       1062\n",
       "Name: count, dtype: int64"
      ]
     },
     "execution_count": 37,
     "metadata": {},
     "output_type": "execute_result"
    }
   ],
   "source": [
    "df[['shipping_type','order_status']].value_counts()"
   ]
  },
  {
   "cell_type": "markdown",
   "id": "46752788-10c2-4240-b256-7046ac894338",
   "metadata": {},
   "source": [
    "## CONCLUSION 7.>> Standered shipping type is prefered followed by overnight."
   ]
  },
  {
   "cell_type": "code",
   "execution_count": null,
   "id": "621e6af1-2e67-4e7d-a1be-2ded48bf9ef6",
   "metadata": {},
   "outputs": [],
   "source": []
  },
  {
   "cell_type": "code",
   "execution_count": 38,
   "id": "944605eb-7141-41c7-a2f1-0ce1a6cc3afb",
   "metadata": {},
   "outputs": [
    {
     "data": {
      "text/html": [
       "<div>\n",
       "<style scoped>\n",
       "    .dataframe tbody tr th:only-of-type {\n",
       "        vertical-align: middle;\n",
       "    }\n",
       "\n",
       "    .dataframe tbody tr th {\n",
       "        vertical-align: top;\n",
       "    }\n",
       "\n",
       "    .dataframe thead th {\n",
       "        text-align: right;\n",
       "    }\n",
       "</style>\n",
       "<table border=\"1\" class=\"dataframe\">\n",
       "  <thead>\n",
       "    <tr style=\"text-align: right;\">\n",
       "      <th></th>\n",
       "      <th>age</th>\n",
       "      <th>gender</th>\n",
       "      <th>loyalty_member</th>\n",
       "      <th>product_type</th>\n",
       "      <th>rating</th>\n",
       "      <th>order_status</th>\n",
       "      <th>payment_method</th>\n",
       "      <th>total_price</th>\n",
       "      <th>unit_price</th>\n",
       "      <th>quantity</th>\n",
       "      <th>purchase_date</th>\n",
       "      <th>shipping_type</th>\n",
       "      <th>add-ons_purchased</th>\n",
       "      <th>add-on_total</th>\n",
       "    </tr>\n",
       "  </thead>\n",
       "  <tbody>\n",
       "    <tr>\n",
       "      <th>0</th>\n",
       "      <td>53</td>\n",
       "      <td>Male</td>\n",
       "      <td>No</td>\n",
       "      <td>Smartphone</td>\n",
       "      <td>2</td>\n",
       "      <td>Cancelled</td>\n",
       "      <td>credit card</td>\n",
       "      <td>5538.33</td>\n",
       "      <td>791.19</td>\n",
       "      <td>7</td>\n",
       "      <td>2024-03-20</td>\n",
       "      <td>Standard</td>\n",
       "      <td>Accessory,Accessory,Accessory</td>\n",
       "      <td>40.21</td>\n",
       "    </tr>\n",
       "    <tr>\n",
       "      <th>1</th>\n",
       "      <td>53</td>\n",
       "      <td>Male</td>\n",
       "      <td>No</td>\n",
       "      <td>Tablet</td>\n",
       "      <td>3</td>\n",
       "      <td>Completed</td>\n",
       "      <td>paypal</td>\n",
       "      <td>741.09</td>\n",
       "      <td>247.03</td>\n",
       "      <td>3</td>\n",
       "      <td>2024-04-20</td>\n",
       "      <td>Overnight</td>\n",
       "      <td>Impulse Item</td>\n",
       "      <td>26.09</td>\n",
       "    </tr>\n",
       "    <tr>\n",
       "      <th>2</th>\n",
       "      <td>41</td>\n",
       "      <td>Male</td>\n",
       "      <td>No</td>\n",
       "      <td>Laptop</td>\n",
       "      <td>3</td>\n",
       "      <td>Completed</td>\n",
       "      <td>credit card</td>\n",
       "      <td>1855.84</td>\n",
       "      <td>463.96</td>\n",
       "      <td>4</td>\n",
       "      <td>2023-10-17</td>\n",
       "      <td>Express</td>\n",
       "      <td>NaN</td>\n",
       "      <td>0.00</td>\n",
       "    </tr>\n",
       "    <tr>\n",
       "      <th>3</th>\n",
       "      <td>41</td>\n",
       "      <td>Male</td>\n",
       "      <td>Yes</td>\n",
       "      <td>Smartphone</td>\n",
       "      <td>2</td>\n",
       "      <td>Completed</td>\n",
       "      <td>cash</td>\n",
       "      <td>3164.76</td>\n",
       "      <td>791.19</td>\n",
       "      <td>4</td>\n",
       "      <td>2024-08-09</td>\n",
       "      <td>Overnight</td>\n",
       "      <td>Impulse Item,Impulse Item</td>\n",
       "      <td>60.16</td>\n",
       "    </tr>\n",
       "    <tr>\n",
       "      <th>4</th>\n",
       "      <td>75</td>\n",
       "      <td>Male</td>\n",
       "      <td>Yes</td>\n",
       "      <td>Smartphone</td>\n",
       "      <td>5</td>\n",
       "      <td>Completed</td>\n",
       "      <td>cash</td>\n",
       "      <td>41.50</td>\n",
       "      <td>20.75</td>\n",
       "      <td>2</td>\n",
       "      <td>2024-05-21</td>\n",
       "      <td>Express</td>\n",
       "      <td>Accessory</td>\n",
       "      <td>35.56</td>\n",
       "    </tr>\n",
       "  </tbody>\n",
       "</table>\n",
       "</div>"
      ],
      "text/plain": [
       "   age gender loyalty_member product_type  rating order_status payment_method  \\\n",
       "0   53   Male             No   Smartphone       2    Cancelled    credit card   \n",
       "1   53   Male             No       Tablet       3    Completed         paypal   \n",
       "2   41   Male             No       Laptop       3    Completed    credit card   \n",
       "3   41   Male            Yes   Smartphone       2    Completed           cash   \n",
       "4   75   Male            Yes   Smartphone       5    Completed           cash   \n",
       "\n",
       "   total_price  unit_price  quantity purchase_date shipping_type  \\\n",
       "0      5538.33      791.19         7    2024-03-20      Standard   \n",
       "1       741.09      247.03         3    2024-04-20     Overnight   \n",
       "2      1855.84      463.96         4    2023-10-17       Express   \n",
       "3      3164.76      791.19         4    2024-08-09     Overnight   \n",
       "4        41.50       20.75         2    2024-05-21       Express   \n",
       "\n",
       "               add-ons_purchased  add-on_total  \n",
       "0  Accessory,Accessory,Accessory         40.21  \n",
       "1                   Impulse Item         26.09  \n",
       "2                            NaN          0.00  \n",
       "3      Impulse Item,Impulse Item         60.16  \n",
       "4                      Accessory         35.56  "
      ]
     },
     "execution_count": 38,
     "metadata": {},
     "output_type": "execute_result"
    }
   ],
   "source": [
    "df.head()"
   ]
  },
  {
   "cell_type": "code",
   "execution_count": 50,
   "id": "06bb0fdd-9c57-45d8-848d-1acdc6923dfa",
   "metadata": {},
   "outputs": [],
   "source": [
    "df['month']=pd.to_datetime(df['purchase_date']).dt.month"
   ]
  },
  {
   "cell_type": "code",
   "execution_count": 53,
   "id": "7b668042-a918-409b-a5ae-a8634741bff6",
   "metadata": {},
   "outputs": [],
   "source": [
    "df['year']=pd.to_datetime(df['purchase_date']).dt.year"
   ]
  },
  {
   "cell_type": "code",
   "execution_count": 54,
   "id": "81c2e1d9-6ef0-4165-ba69-a85566c01531",
   "metadata": {},
   "outputs": [],
   "source": [
    "df['day']=pd.to_datetime(df['purchase_date']).dt.day"
   ]
  },
  {
   "cell_type": "code",
   "execution_count": 55,
   "id": "c085c210-2128-4fdd-a8a1-b9dc5aff7a1c",
   "metadata": {},
   "outputs": [
    {
     "data": {
      "text/html": [
       "<div>\n",
       "<style scoped>\n",
       "    .dataframe tbody tr th:only-of-type {\n",
       "        vertical-align: middle;\n",
       "    }\n",
       "\n",
       "    .dataframe tbody tr th {\n",
       "        vertical-align: top;\n",
       "    }\n",
       "\n",
       "    .dataframe thead th {\n",
       "        text-align: right;\n",
       "    }\n",
       "</style>\n",
       "<table border=\"1\" class=\"dataframe\">\n",
       "  <thead>\n",
       "    <tr style=\"text-align: right;\">\n",
       "      <th></th>\n",
       "      <th>age</th>\n",
       "      <th>gender</th>\n",
       "      <th>loyalty_member</th>\n",
       "      <th>product_type</th>\n",
       "      <th>rating</th>\n",
       "      <th>order_status</th>\n",
       "      <th>payment_method</th>\n",
       "      <th>total_price</th>\n",
       "      <th>unit_price</th>\n",
       "      <th>quantity</th>\n",
       "      <th>purchase_date</th>\n",
       "      <th>shipping_type</th>\n",
       "      <th>add-ons_purchased</th>\n",
       "      <th>add-on_total</th>\n",
       "      <th>month</th>\n",
       "      <th>day</th>\n",
       "      <th>year</th>\n",
       "    </tr>\n",
       "  </thead>\n",
       "  <tbody>\n",
       "    <tr>\n",
       "      <th>0</th>\n",
       "      <td>53</td>\n",
       "      <td>Male</td>\n",
       "      <td>No</td>\n",
       "      <td>Smartphone</td>\n",
       "      <td>2</td>\n",
       "      <td>Cancelled</td>\n",
       "      <td>credit card</td>\n",
       "      <td>5538.33</td>\n",
       "      <td>791.19</td>\n",
       "      <td>7</td>\n",
       "      <td>2024-03-20</td>\n",
       "      <td>Standard</td>\n",
       "      <td>Accessory,Accessory,Accessory</td>\n",
       "      <td>40.21</td>\n",
       "      <td>3</td>\n",
       "      <td>20</td>\n",
       "      <td>2024</td>\n",
       "    </tr>\n",
       "    <tr>\n",
       "      <th>1</th>\n",
       "      <td>53</td>\n",
       "      <td>Male</td>\n",
       "      <td>No</td>\n",
       "      <td>Tablet</td>\n",
       "      <td>3</td>\n",
       "      <td>Completed</td>\n",
       "      <td>paypal</td>\n",
       "      <td>741.09</td>\n",
       "      <td>247.03</td>\n",
       "      <td>3</td>\n",
       "      <td>2024-04-20</td>\n",
       "      <td>Overnight</td>\n",
       "      <td>Impulse Item</td>\n",
       "      <td>26.09</td>\n",
       "      <td>4</td>\n",
       "      <td>20</td>\n",
       "      <td>2024</td>\n",
       "    </tr>\n",
       "    <tr>\n",
       "      <th>2</th>\n",
       "      <td>41</td>\n",
       "      <td>Male</td>\n",
       "      <td>No</td>\n",
       "      <td>Laptop</td>\n",
       "      <td>3</td>\n",
       "      <td>Completed</td>\n",
       "      <td>credit card</td>\n",
       "      <td>1855.84</td>\n",
       "      <td>463.96</td>\n",
       "      <td>4</td>\n",
       "      <td>2023-10-17</td>\n",
       "      <td>Express</td>\n",
       "      <td>NaN</td>\n",
       "      <td>0.00</td>\n",
       "      <td>10</td>\n",
       "      <td>17</td>\n",
       "      <td>2023</td>\n",
       "    </tr>\n",
       "    <tr>\n",
       "      <th>3</th>\n",
       "      <td>41</td>\n",
       "      <td>Male</td>\n",
       "      <td>Yes</td>\n",
       "      <td>Smartphone</td>\n",
       "      <td>2</td>\n",
       "      <td>Completed</td>\n",
       "      <td>cash</td>\n",
       "      <td>3164.76</td>\n",
       "      <td>791.19</td>\n",
       "      <td>4</td>\n",
       "      <td>2024-08-09</td>\n",
       "      <td>Overnight</td>\n",
       "      <td>Impulse Item,Impulse Item</td>\n",
       "      <td>60.16</td>\n",
       "      <td>8</td>\n",
       "      <td>9</td>\n",
       "      <td>2024</td>\n",
       "    </tr>\n",
       "    <tr>\n",
       "      <th>4</th>\n",
       "      <td>75</td>\n",
       "      <td>Male</td>\n",
       "      <td>Yes</td>\n",
       "      <td>Smartphone</td>\n",
       "      <td>5</td>\n",
       "      <td>Completed</td>\n",
       "      <td>cash</td>\n",
       "      <td>41.50</td>\n",
       "      <td>20.75</td>\n",
       "      <td>2</td>\n",
       "      <td>2024-05-21</td>\n",
       "      <td>Express</td>\n",
       "      <td>Accessory</td>\n",
       "      <td>35.56</td>\n",
       "      <td>5</td>\n",
       "      <td>21</td>\n",
       "      <td>2024</td>\n",
       "    </tr>\n",
       "  </tbody>\n",
       "</table>\n",
       "</div>"
      ],
      "text/plain": [
       "   age gender loyalty_member product_type  rating order_status payment_method  \\\n",
       "0   53   Male             No   Smartphone       2    Cancelled    credit card   \n",
       "1   53   Male             No       Tablet       3    Completed         paypal   \n",
       "2   41   Male             No       Laptop       3    Completed    credit card   \n",
       "3   41   Male            Yes   Smartphone       2    Completed           cash   \n",
       "4   75   Male            Yes   Smartphone       5    Completed           cash   \n",
       "\n",
       "   total_price  unit_price  quantity purchase_date shipping_type  \\\n",
       "0      5538.33      791.19         7    2024-03-20      Standard   \n",
       "1       741.09      247.03         3    2024-04-20     Overnight   \n",
       "2      1855.84      463.96         4    2023-10-17       Express   \n",
       "3      3164.76      791.19         4    2024-08-09     Overnight   \n",
       "4        41.50       20.75         2    2024-05-21       Express   \n",
       "\n",
       "               add-ons_purchased  add-on_total  month  day  year  \n",
       "0  Accessory,Accessory,Accessory         40.21      3   20  2024  \n",
       "1                   Impulse Item         26.09      4   20  2024  \n",
       "2                            NaN          0.00     10   17  2023  \n",
       "3      Impulse Item,Impulse Item         60.16      8    9  2024  \n",
       "4                      Accessory         35.56      5   21  2024  "
      ]
     },
     "execution_count": 55,
     "metadata": {},
     "output_type": "execute_result"
    }
   ],
   "source": [
    "df.head()"
   ]
  },
  {
   "cell_type": "code",
   "execution_count": null,
   "id": "c89ed7dd-b9db-4d94-a302-6e2757891b6a",
   "metadata": {},
   "outputs": [],
   "source": []
  },
  {
   "cell_type": "markdown",
   "id": "9d3af352-1aa4-4c3c-bddc-07a256871895",
   "metadata": {},
   "source": [
    "## PROBLEM STSTEMENT 8.>> Yearly sales analysis"
   ]
  },
  {
   "cell_type": "code",
   "execution_count": 59,
   "id": "4d71fe12-c27f-42bc-b90d-205a20bc3d45",
   "metadata": {},
   "outputs": [
    {
     "data": {
      "text/plain": [
       "year\n",
       "2023     6849562.61\n",
       "2024    56753105.76\n",
       "Name: total_price, dtype: float64"
      ]
     },
     "execution_count": 59,
     "metadata": {},
     "output_type": "execute_result"
    }
   ],
   "source": [
    "df.groupby('year')['total_price'].sum()"
   ]
  },
  {
   "cell_type": "markdown",
   "id": "b94f318a-865d-4d69-85ec-bfc47fd9d93a",
   "metadata": {},
   "source": [
    "## CONCLUSION 8.>> Sales have grown drastically from 2023 to 2024"
   ]
  },
  {
   "cell_type": "code",
   "execution_count": null,
   "id": "54d32a5c-847e-4b3d-8e9f-75872f33e245",
   "metadata": {},
   "outputs": [],
   "source": []
  },
  {
   "cell_type": "markdown",
   "id": "401e2f54-5747-45bf-be0e-7132558a42f3",
   "metadata": {},
   "source": [
    "## PROBLEM STSTEMENT 9.>> Sales spread month-wise in a year"
   ]
  },
  {
   "cell_type": "code",
   "execution_count": 69,
   "id": "fde089ce-0665-47a0-ab46-c1cdbefd873b",
   "metadata": {},
   "outputs": [
    {
     "data": {
      "text/plain": [
       "<Axes: xlabel='month'>"
      ]
     },
     "execution_count": 69,
     "metadata": {},
     "output_type": "execute_result"
    },
    {
     "data": {
      "image/png": "[encoded data removed]",
      "text/plain": [
       "<Figure size 640x480 with 1 Axes>"
      ]
     },
     "metadata": {},
     "output_type": "display_data"
    }
   ],
   "source": [
    "df.groupby('month')['total_price'].sum().plot(kind='bar')"
   ]
  },
  {
   "cell_type": "markdown",
   "id": "6ff88927-bcd5-46fb-b516-9e658fc9aed7",
   "metadata": {},
   "source": [
    "## CONCLUSION 10.>> Sales are very low during oct/nov/dec company needs to focus during this quarter"
   ]
  },
  {
   "cell_type": "code",
   "execution_count": null,
   "id": "c181a29e-651b-4f4f-922c-4395e87074ee",
   "metadata": {},
   "outputs": [],
   "source": []
  },
  {
   "cell_type": "code",
   "execution_count": null,
   "id": "563fc525-1198-46ba-b687-49d1b0efacdd",
   "metadata": {},
   "outputs": [],
   "source": []
  },
  {
   "cell_type": "code",
   "execution_count": 68,
   "id": "98b91a1c-1523-4ff7-9cf7-0e3c2b2afec1",
   "metadata": {},
   "outputs": [
    {
     "data": {
      "text/plain": [
       "<Axes: xlabel='day'>"
      ]
     },
     "execution_count": 68,
     "metadata": {},
     "output_type": "execute_result"
    },
    {
     "data": {
      "image/png": "[encoded data removed]",
      "text/plain": [
       "<Figure size 640x480 with 1 Axes>"
      ]
     },
     "metadata": {},
     "output_type": "display_data"
    }
   ],
   "source": [
    "df.groupby('day')['total_price'].sum().plot(kind='bar')"
   ]
  },
  {
   "cell_type": "code",
   "execution_count": null,
   "id": "ef241abd-fdce-4406-aae4-5d0f22dbb0ef",
   "metadata": {},
   "outputs": [],
   "source": []
  },
  {
   "cell_type": "code",
   "execution_count": null,
   "id": "dabccdfd-964d-40f1-af14-495f1c9f9671",
   "metadata": {},
   "outputs": [],
   "source": []
  }
 ],
 "metadata": {
  "kernelspec": {
   "display_name": "Python 3 (ipykernel)",
   "language": "python",
   "name": "python3"
  },
  "language_info": {
   "codemirror_mode": {
    "name": "ipython",
    "version": 3
   },
   "file_extension": ".py",
   "mimetype": "text/x-python",
   "name": "python",
   "nbconvert_exporter": "python",
   "pygments_lexer": "ipython3",
   "version": "3.12.0"
  }
 },
 "nbformat": 4,
 "nbformat_minor": 5
}
